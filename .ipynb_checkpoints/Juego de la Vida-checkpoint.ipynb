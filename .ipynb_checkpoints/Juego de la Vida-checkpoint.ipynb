{
 "cells": [
  {
   "cell_type": "code",
   "execution_count": 19,
   "metadata": {
    "collapsed": false
   },
   "outputs": [
    {
     "name": "stdout",
     "output_type": "stream",
     "text": [
      "Overwriting juego_vida_secuencial.c\n"
     ]
    }
   ],
   "source": [
    "%%writefile juego_vida_secuencial.c\n",
    "\n",
    "#include<stdio.h>\n",
    "#include<unistd.h>\n",
    "#include<stdlib.h>\n",
    "\n",
    "#define MAX_GRILLA 10\n",
    "\n",
    "//grilla con el estado actual\n",
    "int grilla [MAX_GRILLA][MAX_GRILLA];\n",
    "\n",
    "//nuevo estado de la grilla\n",
    "int nueva_grilla [MAX_GRILLA][MAX_GRILLA];\n",
    "\n",
    "int inicializar_arreglo(int grilla[maximo_grilla][maximo_grilla]){\n",
    "    int i,j;\n",
    "    srand(getpid());\n",
    "    \n",
    "    for(i = 0;i<maximo_grilla;i++){\n",
    "        for(j = 0; j<maximo_grilla;j++){\n",
    "            grilla[i][j] = rand() % 2;\n",
    "        }\n",
    "    }\n",
    "    \n",
    "    return 0; \n",
    "}\n",
    "\n",
    "int mostrar_arreglo(int grilla[maximo_grilla][maximo_grilla]){\n",
    "    int i,j;\n",
    "    \n",
    "    for(i = 0;i<maximo_grilla;i++){\n",
    "        for(j = 0; j<maximo_grilla;j++){\n",
    "            printf(\"%d \",grilla[i][j]);\n",
    "        }\n",
    "        printf(\"\\n\");\n",
    "    }\n",
    "    return 0;\n",
    "}\n",
    "\n",
    "int cantidad_vecinos(int grilla[maximo_grilla][maximo_grilla], int i, int j){\n",
    "    int ni,si;\n",
    "    int ej,oj;\n",
    "    \n",
    "    // coordenadas de los vecinos\n",
    "    // tienen el modulo para no salirnos del arreglo\n",
    "    ni = (i-1) % maximo_grilla;\n",
    "    si = (i+1) % maximo_grilla;\n",
    "    oj = (j-1) % maximo_grilla;\n",
    "    ej = (j+1) % maximo_grilla;\n",
    "    \n",
    "    //sumamos\n",
    "    int cant = \n",
    "    grilla[ni][j]  + //vecino norte\n",
    "    grilla[ni][ej] + //vecino noreste\n",
    "    grilla[i][ej]  + //vecino este\n",
    "    grilla[si][ej] + //vecino sureste\n",
    "    grilla[si][j]  + //vecino sur\n",
    "    grilla[si][oj] + //vecino suroeste\n",
    "    grilla[i][oj]  + //vecino oeste\n",
    "    grilla[ni][oj];  //vecino noroeste\n",
    "    \n",
    "    //devolvemos la cantidad\n",
    "    return cant;\n",
    "}\n",
    "\n",
    "int nuevo_estado(int grilla[maximo_grilla][maximo_grilla], int i, int j){\n",
    "    \n",
    "    int vecinos = cantidad_vecinos(grilla, i,j, maximo_grilla);\n",
    "    \n",
    "    // Para morir de inanicion\n",
    "    // En este caso, menos de dos vecinos vivos\n",
    "    if (vecinos < 2){\n",
    "        return 0;\n",
    "    } // Para pasar a la siguiente generacion\n",
    "      // En este caso, dos o tres vecinos vivos\n",
    "    else if ((vecinos==2) || (vecinos == 3)){\n",
    "        return 1;\n",
    "    }\n",
    "    // Para que una celda comience a vivir    \n",
    "    // En este caso 3 vecinos vivos.\n",
    "    /* NOTA: este codigo no se ejecuta nunca, \n",
    "    *  pero queda acá por si se quierem cambiar\n",
    "    *  las reglas en algun momento\n",
    "    */\n",
    "    else if(vecinos==3){\n",
    "        return 1;\n",
    "    }\n",
    "    // Para matar una celda de sobre poblacion\n",
    "    // En este caso mas de 3 vecinos vivos\n",
    "    else if(vecinos > 3){\n",
    "        return 0;\n",
    "    }\n",
    "    \n",
    "}\n",
    "\n",
    "int main(){   \n",
    "    \n",
    "    //para siempre\n",
    "    while(1){\n",
    "        int i,j;\n",
    "        //recorrer filas\n",
    "        for(i = 0; i < MAX_GRILLA; i++){\n",
    "            //recorrer columnas\n",
    "            for(j = 0; i < MAX_GRILLA; i++){\n",
    "                nueva_grilla[i][j] = nuevo_estado(grilla, i, j, MAX_GRILLA);\n",
    "            }\n",
    "            \n",
    "        }\n",
    "        mostrar_arreglo(grilla, MAX_GRILLA);\n",
    "        \n",
    "    }\n",
    "    \n",
    "    return 0;\n",
    "}\n",
    "\n"
   ]
  },
  {
   "cell_type": "code",
   "execution_count": 20,
   "metadata": {
    "collapsed": false
   },
   "outputs": [
    {
     "name": "stdout",
     "output_type": "stream",
     "text": [
      "\u001b[01m\u001b[Kjuego_vida_secuencial.c:\u001b[m\u001b[K In function ‘\u001b[01m\u001b[Kmain\u001b[m\u001b[K’:\r\n",
      "\u001b[01m\u001b[Kjuego_vida_secuencial.c:104:51:\u001b[m\u001b[K \u001b[01;35m\u001b[Kwarning: \u001b[m\u001b[Kpassing argument 1 of ‘\u001b[01m\u001b[Knuevo_estado\u001b[m\u001b[K’ from incompatible pointer type [-Wincompatible-pointer-types]\r\n",
      "                 nueva_grilla[i][j] = nuevo_estado(grilla, i, j, MAX_GRILLA);\r\n",
      "\u001b[01;32m\u001b[K                                                   ^\u001b[m\u001b[K\r\n",
      "\u001b[01m\u001b[Kjuego_vida_secuencial.c:65:5:\u001b[m\u001b[K \u001b[01;36m\u001b[Knote: \u001b[m\u001b[Kexpected ‘\u001b[01m\u001b[Kint **\u001b[m\u001b[K’ but argument is of type ‘\u001b[01m\u001b[Kint (*)[10]\u001b[m\u001b[K’\r\n",
      " int nuevo_estado(int **grilla, int i, int j, int maximo_grilla){\r\n",
      "\u001b[01;32m\u001b[K     ^\u001b[m\u001b[K\r\n",
      "\u001b[01m\u001b[Kjuego_vida_secuencial.c:108:25:\u001b[m\u001b[K \u001b[01;35m\u001b[Kwarning: \u001b[m\u001b[Kpassing argument 1 of ‘\u001b[01m\u001b[Kmostrar_arreglo\u001b[m\u001b[K’ from incompatible pointer type [-Wincompatible-pointer-types]\r\n",
      "         mostrar_arreglo(grilla, MAX_GRILLA);\r\n",
      "\u001b[01;32m\u001b[K                         ^\u001b[m\u001b[K\r\n",
      "\u001b[01m\u001b[Kjuego_vida_secuencial.c:27:5:\u001b[m\u001b[K \u001b[01;36m\u001b[Knote: \u001b[m\u001b[Kexpected ‘\u001b[01m\u001b[Kint **\u001b[m\u001b[K’ but argument is of type ‘\u001b[01m\u001b[Kint (*)[10]\u001b[m\u001b[K’\r\n",
      " int mostrar_arreglo(int **grilla, int maximo_grilla){\r\n",
      "\u001b[01;32m\u001b[K     ^\u001b[m\u001b[K\r\n"
     ]
    }
   ],
   "source": [
    "!gcc juego_vida_secuencial.c -o juego_vida_secuencial"
   ]
  },
  {
   "cell_type": "code",
   "execution_count": 21,
   "metadata": {
    "collapsed": false
   },
   "outputs": [
    {
     "name": "stdout",
     "output_type": "stream",
     "text": [
      "Segmentation fault (core dumped)\r\n"
     ]
    }
   ],
   "source": [
    "!./juego_vida_secuencial"
   ]
  },
  {
   "cell_type": "code",
   "execution_count": null,
   "metadata": {
    "collapsed": true
   },
   "outputs": [],
   "source": []
  }
 ],
 "metadata": {
  "kernelspec": {
   "display_name": "Python 2",
   "language": "python",
   "name": "python2"
  },
  "language_info": {
   "codemirror_mode": {
    "name": "ipython",
    "version": 2
   },
   "file_extension": ".py",
   "mimetype": "text/x-python",
   "name": "python",
   "nbconvert_exporter": "python",
   "pygments_lexer": "ipython2",
   "version": "2.7.12"
  }
 },
 "nbformat": 4,
 "nbformat_minor": 1
}
